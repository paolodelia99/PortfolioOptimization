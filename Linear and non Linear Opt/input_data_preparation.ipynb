{
 "cells": [
  {
   "cell_type": "markdown",
   "metadata": {},
   "source": [
    "# Input data Preparation\n",
    "\n",
    "Since the investor does not know the value of the expected return $\\mu$ and the covariance matrix $\\Sigma$, we need to find estimate of those values. \n",
    "\n",
    "In a stochastic environment a rational approach should link the maket model, i.e the distribution of the prices at the investment horizion, with the observations, i.e. the past realizations of some market observables. \n",
    "\n",
    "The job of the inverstion is to project those past observations into future distributions.\n",
    "\n",
    "## Detecting invariants\n",
    "\n",
    "The process to achieve the goal describe above is based on the concept of **invariant**.\n",
    "\n",
    "The market displays some phenomena that repeats themselves identically throughout history: those phenomena are called invariants.\n",
    "\n",
    "Due to the repetitive behavior of the market invariants, it is possible by means of statistical porcedure to infer their distribution.\n",
    "\n",
    "And then this estimated distribution need to be projected to the generic investment horizon $\\tau$ that is relevant to the investor.\n",
    "\n",
    "In the case of the stock market those invariants are the compounded returns (or logaritmic returns). The compounded return at time $t$ for a horizon $\\tau$ is defined as follows: \n",
    "\n",
    "$$\n",
    "C_{t, \\tau} = \\ln \\left( \\frac{P_t}{P_{t - \\tau}} \\right)\n",
    "$$"
   ]
  },
  {
   "cell_type": "code",
   "execution_count": 2,
   "metadata": {},
   "outputs": [],
   "source": [
    "import numpy as np\n",
    "import pandas as pd\n",
    "import matplotlib.pyplot as plt\n",
    "\n",
    "close_df = pd.read_csv('..\\data\\DK\\preprocessed_data\\danish_closed_stocks.csv', index_col=0)\n",
    "close_df = close_df.fillna(method='bfill')\n",
    "close_df.index = pd.to_datetime(close_df.index)\n",
    "\n",
    "stock_names = close_df.columns"
   ]
  },
  {
   "cell_type": "markdown",
   "metadata": {},
   "source": [
    "Let's start by calculating the weekly prices"
   ]
  },
  {
   "cell_type": "code",
   "execution_count": 4,
   "metadata": {},
   "outputs": [],
   "source": [
    "df_weekly_prices = close_df.resample('W').last()"
   ]
  },
  {
   "cell_type": "markdown",
   "metadata": {},
   "source": [
    "Next we compute the weekly logarithmic return from the weekly prices. "
   ]
  },
  {
   "cell_type": "code",
   "execution_count": 5,
   "metadata": {},
   "outputs": [],
   "source": [
    "df_weekly_log_returns = np.log(df_weekly_prices) - np.log(df_weekly_prices.shift(1))\n",
    "df_weekly_log_returns = df_weekly_log_returns.dropna(how='all')\n",
    "df_weekly_log_returns = df_weekly_log_returns.fillna(0)"
   ]
  },
  {
   "cell_type": "markdown",
   "metadata": {},
   "source": [
    "Assuming that the weekly compounded are normally distributed, that means that we have to estimate the parameters $\\mu_{\\tau}^{\\log}$ and $\\Sigma_{\\tau}^{\\log}$ of the distribution. In our case this is simply done by calculating the mean and the covariance of the weekly returns calculated before. "
   ]
  },
  {
   "cell_type": "code",
   "execution_count": 6,
   "metadata": {},
   "outputs": [],
   "source": [
    "return_array = df_weekly_log_returns.to_numpy()\n",
    "m_weekly_log = np.mean(return_array, axis=0)\n",
    "S_weekly_log = np.cov(return_array.transpose())"
   ]
  },
  {
   "cell_type": "markdown",
   "metadata": {},
   "source": [
    "Since in our case the investment horizon is 1 year, we have to project the distribution of weekly logarithmic returns to one year investment horizon. Since logarithmic return are additive across time, the projected distribution will also be normal with parameters \n",
    "\n",
    "$$\n",
    "\\mu_h^{\\log} = \\frac{h}{\\tau} \\mu_{\\tau}^{\\log}, \\Sigma_h^{\\log} = \\frac{h}{\\tau} \\Sigma_{\\tau}^{\\log} \n",
    "$$"
   ]
  },
  {
   "cell_type": "code",
   "execution_count": 7,
   "metadata": {},
   "outputs": [],
   "source": [
    "m_log = 52 * m_weekly_log\n",
    "S_log = 52 * S_weekly_log"
   ]
  },
  {
   "cell_type": "markdown",
   "metadata": {},
   "source": [
    "To calculate the distribution of linear returns at the investment horizon $h$, we begin by determining the distribution of security prices at that horizon. This can be achieved using the characteristic function of the normal distribution and the pricing function $P_h = p_o \\exp(R^{\\log})$,\n",
    "\n",
    "$$\n",
    "\\begin{split}\\begin{array}{lcr}\n",
    "\\mathbb{E}(P_h)   & = & \\mathbf{p}_0 \\circ \\mathrm{exp}\\left(\\mu_h^\\mathrm{log} + \\frac{1}{2}\\mathrm{diag}(\\Sigma_h^\\mathrm{log})\\right), \\\\\n",
    "\\mathrm{Cov}(P_h) & = & \\mathbb{E}(P_h)\\mathbb{E}(P_h)^\\mathsf{T} \\circ (\\mathrm{exp}(\\Sigma_h^\\mathrm{log}) - 1).\n",
    "\\end{array}\\end{split}\n",
    "$$"
   ]
  },
  {
   "cell_type": "code",
   "execution_count": 8,
   "metadata": {},
   "outputs": [],
   "source": [
    "p_0 = df_weekly_prices.iloc[0].to_numpy()\n",
    "m_P = p_0 * np.exp(m_log + 1/2*np.diag(S_log))\n",
    "S_P = np.outer(m_P, m_P) * (np.exp(S_log) - 1)"
   ]
  },
  {
   "cell_type": "markdown",
   "metadata": {},
   "source": [
    "Then the estimated moments of the linear return is easy to get by $\\mu = \\frac{1}{p_0} \\circ \\mathbb{E}(P_h) - 1$ and $\\Sigma = \\frac{1}{p_0 p_0^T} \\circ Cov(P_h)$"
   ]
  },
  {
   "cell_type": "code",
   "execution_count": 10,
   "metadata": {},
   "outputs": [],
   "source": [
    "m = 1 / p_0 * m_P - 1\n",
    "S = 1 / np.outer(p_0, p_0) * S_P"
   ]
  },
  {
   "cell_type": "code",
   "execution_count": 11,
   "metadata": {},
   "outputs": [],
   "source": [
    "# Save m and S to some files \n",
    "np.save('data/m_log.npy', m_log)\n",
    "np.save('data/S_log.npy', S_log)\n",
    "np.save('data/m.npy', m)\n",
    "np.save('data/S.npy', S)"
   ]
  }
 ],
 "metadata": {
  "kernelspec": {
   "display_name": ".venv",
   "language": "python",
   "name": "python3"
  },
  "language_info": {
   "codemirror_mode": {
    "name": "ipython",
    "version": 3
   },
   "file_extension": ".py",
   "mimetype": "text/x-python",
   "name": "python",
   "nbconvert_exporter": "python",
   "pygments_lexer": "ipython3",
   "version": "3.10.6"
  },
  "orig_nbformat": 4
 },
 "nbformat": 4,
 "nbformat_minor": 2
}
