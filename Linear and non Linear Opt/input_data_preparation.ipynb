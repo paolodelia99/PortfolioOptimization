{
 "cells": [
  {
   "cell_type": "markdown",
   "metadata": {},
   "source": [
    "# Input data Preparation\n",
    "\n",
    "TODO: Explain the math"
   ]
  },
  {
   "cell_type": "code",
   "execution_count": 2,
   "metadata": {},
   "outputs": [],
   "source": [
    "import numpy as np\n",
    "import pandas as pd\n",
    "import matplotlib.pyplot as plt"
   ]
  },
  {
   "cell_type": "code",
   "execution_count": 5,
   "metadata": {},
   "outputs": [],
   "source": [
    "close_df = pd.read_csv('..\\data\\DK\\preprocessed_data\\danish_closed_stocks.csv', index_col=0)\n",
    "close_df = close_df.fillna(method='bfill')"
   ]
  },
  {
   "cell_type": "code",
   "execution_count": 3,
   "metadata": {},
   "outputs": [],
   "source": [
    "close_df.index = pd.to_datetime(close_df.index)"
   ]
  },
  {
   "cell_type": "code",
   "execution_count": 4,
   "metadata": {},
   "outputs": [],
   "source": [
    "df_weekly_prices = close_df.resample('W').last()"
   ]
  },
  {
   "cell_type": "code",
   "execution_count": 5,
   "metadata": {},
   "outputs": [],
   "source": [
    "df_weekly_log_returns = np.log(df_weekly_prices) - np.log(df_weekly_prices.shift(1))\n",
    "df_weekly_log_returns = df_weekly_log_returns.dropna(how='all')\n",
    "df_weekly_log_returns = df_weekly_log_returns.fillna(0)"
   ]
  },
  {
   "cell_type": "code",
   "execution_count": 6,
   "metadata": {},
   "outputs": [],
   "source": [
    "return_array = df_weekly_log_returns.to_numpy()\n",
    "m_weekly_log = np.mean(return_array, axis=0)\n",
    "S_weekly_log = np.cov(return_array.transpose())"
   ]
  },
  {
   "cell_type": "code",
   "execution_count": 7,
   "metadata": {},
   "outputs": [],
   "source": [
    "m_log = 52 * m_weekly_log\n",
    "S_log = 52 * S_weekly_log"
   ]
  },
  {
   "cell_type": "code",
   "execution_count": 8,
   "metadata": {},
   "outputs": [],
   "source": [
    "p_0 = df_weekly_prices.iloc[0].to_numpy()\n",
    "m_P = p_0 * np.exp(m_log + 1/2*np.diag(S_log))\n",
    "S_P = np.outer(m_P, m_P) * (np.exp(S_log) - 1)"
   ]
  },
  {
   "cell_type": "code",
   "execution_count": 10,
   "metadata": {},
   "outputs": [],
   "source": [
    "m = 1 / p_0 * m_P - 1\n",
    "S = 1 / np.outer(p_0, p_0) * S_P"
   ]
  },
  {
   "cell_type": "code",
   "execution_count": 11,
   "metadata": {},
   "outputs": [],
   "source": [
    "# Save m and S to some files \n",
    "np.save('data/m_log.npy', m_log)\n",
    "np.save('data/S_log.npy', S_log)\n",
    "np.save('data/m.npy', m)\n",
    "np.save('data/S.npy', S)"
   ]
  }
 ],
 "metadata": {
  "kernelspec": {
   "display_name": ".venv",
   "language": "python",
   "name": "python3"
  },
  "language_info": {
   "codemirror_mode": {
    "name": "ipython",
    "version": 3
   },
   "file_extension": ".py",
   "mimetype": "text/x-python",
   "name": "python",
   "nbconvert_exporter": "python",
   "pygments_lexer": "ipython3",
   "version": "3.10.6"
  },
  "orig_nbformat": 4
 },
 "nbformat": 4,
 "nbformat_minor": 2
}
