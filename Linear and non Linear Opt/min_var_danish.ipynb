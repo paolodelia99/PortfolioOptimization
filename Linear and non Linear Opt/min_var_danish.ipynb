{
 "cells": [
  {
   "attachments": {},
   "cell_type": "markdown",
   "metadata": {},
   "source": [
    "# Minimum variance portfolio on selected Danish stocks"
   ]
  },
  {
   "cell_type": "code",
   "execution_count": 1,
   "metadata": {},
   "outputs": [],
   "source": [
    "from os import listdir\n",
    "from os.path import isfile, join\n",
    "\n",
    "import numpy as np \n",
    "import pandas as pd\n",
    "import matplotlib.pyplot as plt\n",
    "from scipy.stats import skew, kurtosis"
   ]
  },
  {
   "attachments": {},
   "cell_type": "markdown",
   "metadata": {},
   "source": [
    "## Load the data"
   ]
  },
  {
   "cell_type": "code",
   "execution_count": 2,
   "metadata": {},
   "outputs": [],
   "source": [
    "files_name = [f for f in listdir('..\\data\\DK') if isfile(join('..\\data\\DK', f))]\n",
    "stocks_names = [f.split(',')[0].split('_')[2] for f in files_name] \n",
    "danish_stocks_df = [pd.read_csv('..\\data\\DK\\\\'+f, sep=',', index_col=0, parse_dates=['time']) for f in files_name]"
   ]
  },
  {
   "cell_type": "code",
   "execution_count": 5,
   "metadata": {},
   "outputs": [],
   "source": [
    "closes_df = [df['close'].values for df in danish_stocks_df]"
   ]
  },
  {
   "cell_type": "code",
   "execution_count": 28,
   "metadata": {},
   "outputs": [],
   "source": [
    "min_index = min(range(len(closes_df)), key=lambda i: len(closes_df[i]))\n",
    "max_index = max(range(len(closes_df)), key=lambda i: len(closes_df[i]))"
   ]
  },
  {
   "cell_type": "code",
   "execution_count": 29,
   "metadata": {},
   "outputs": [
    {
     "data": {
      "text/plain": [
       "(Timestamp('2016-06-09 09:00:00+0200', tz='UTC+02:00'),\n",
       " Timestamp('2023-07-07 09:00:00+0200', tz='UTC+02:00'))"
      ]
     },
     "execution_count": 29,
     "metadata": {},
     "output_type": "execute_result"
    }
   ],
   "source": [
    "start_date = danish_stocks_df[min_index].index[0]\n",
    "end_date = danish_stocks_df[max_index].index[-1]\n",
    "start_date, end_date"
   ]
  },
  {
   "cell_type": "code",
   "execution_count": 20,
   "metadata": {},
   "outputs": [
    {
     "data": {
      "text/plain": [
       "[1764, 1771, 1771, 1771, 1771, 1771, 1771, 1747, 1771, 1771, 1771, 1771, 1771]"
      ]
     },
     "execution_count": 20,
     "metadata": {},
     "output_type": "execute_result"
    }
   ],
   "source": [
    "[len(danish_stocks_df[i].loc[start_date:, 'close']) for i in range(len(danish_stocks_df))]"
   ]
  },
  {
   "cell_type": "code",
   "execution_count": 34,
   "metadata": {},
   "outputs": [
    {
     "data": {
      "text/plain": [
       "DatetimeIndex(['2016-06-09 09:00:00+02:00', '2016-06-10 09:00:00+02:00',\n",
       "               '2016-06-13 09:00:00+02:00', '2016-06-14 09:00:00+02:00',\n",
       "               '2016-06-15 09:00:00+02:00', '2016-06-16 09:00:00+02:00',\n",
       "               '2016-06-17 09:00:00+02:00', '2016-06-20 09:00:00+02:00',\n",
       "               '2016-06-21 09:00:00+02:00', '2016-06-22 09:00:00+02:00',\n",
       "               ...\n",
       "               '2023-06-26 09:00:00+02:00', '2023-06-27 09:00:00+02:00',\n",
       "               '2023-06-28 09:00:00+02:00', '2023-06-29 09:00:00+02:00',\n",
       "               '2023-06-30 09:00:00+02:00', '2023-07-03 09:00:00+02:00',\n",
       "               '2023-07-04 09:00:00+02:00', '2023-07-05 09:00:00+02:00',\n",
       "               '2023-07-06 09:00:00+02:00', '2023-07-07 09:00:00+02:00'],\n",
       "              dtype='datetime64[ns, UTC+02:00]', length=1847, freq='B')"
      ]
     },
     "execution_count": 34,
     "metadata": {},
     "output_type": "execute_result"
    }
   ],
   "source": [
    "pd.date_range(start=start_date, end=end_date, freq='B')"
   ]
  },
  {
   "cell_type": "code",
   "execution_count": 27,
   "metadata": {},
   "outputs": [
    {
     "ename": "TypeError",
     "evalue": "Only valid with DatetimeIndex, TimedeltaIndex or PeriodIndex, but got an instance of 'Index'",
     "output_type": "error",
     "traceback": [
      "\u001b[1;31m---------------------------------------------------------------------------\u001b[0m",
      "\u001b[1;31mTypeError\u001b[0m                                 Traceback (most recent call last)",
      "Cell \u001b[1;32mIn[27], line 1\u001b[0m\n\u001b[1;32m----> 1\u001b[0m danish_stocks_df[\u001b[39m0\u001b[39;49m]\u001b[39m.\u001b[39;49mloc[start_date:, :]\u001b[39m.\u001b[39;49mresample(\u001b[39m'\u001b[39;49m\u001b[39mD\u001b[39;49m\u001b[39m'\u001b[39;49m)\u001b[39m.\u001b[39mmean()\n",
      "File \u001b[1;32mc:\\Users\\paolo\\PycharmProjects\\AOR2022\\.venv\\lib\\site-packages\\pandas\\core\\frame.py:10994\u001b[0m, in \u001b[0;36mDataFrame.resample\u001b[1;34m(self, rule, axis, closed, label, convention, kind, on, level, origin, offset, group_keys)\u001b[0m\n\u001b[0;32m  10979\u001b[0m \u001b[39m@doc\u001b[39m(NDFrame\u001b[39m.\u001b[39mresample, \u001b[39m*\u001b[39m\u001b[39m*\u001b[39m_shared_doc_kwargs)\n\u001b[0;32m  10980\u001b[0m \u001b[39mdef\u001b[39;00m \u001b[39mresample\u001b[39m(\n\u001b[0;32m  10981\u001b[0m     \u001b[39mself\u001b[39m,\n\u001b[1;32m   (...)\u001b[0m\n\u001b[0;32m  10992\u001b[0m     group_keys: \u001b[39mbool\u001b[39m \u001b[39m=\u001b[39m \u001b[39mFalse\u001b[39;00m,\n\u001b[0;32m  10993\u001b[0m ) \u001b[39m-\u001b[39m\u001b[39m>\u001b[39m Resampler:\n\u001b[1;32m> 10994\u001b[0m     \u001b[39mreturn\u001b[39;00m \u001b[39msuper\u001b[39;49m()\u001b[39m.\u001b[39;49mresample(\n\u001b[0;32m  10995\u001b[0m         rule\u001b[39m=\u001b[39;49mrule,\n\u001b[0;32m  10996\u001b[0m         axis\u001b[39m=\u001b[39;49maxis,\n\u001b[0;32m  10997\u001b[0m         closed\u001b[39m=\u001b[39;49mclosed,\n\u001b[0;32m  10998\u001b[0m         label\u001b[39m=\u001b[39;49mlabel,\n\u001b[0;32m  10999\u001b[0m         convention\u001b[39m=\u001b[39;49mconvention,\n\u001b[0;32m  11000\u001b[0m         kind\u001b[39m=\u001b[39;49mkind,\n\u001b[0;32m  11001\u001b[0m         on\u001b[39m=\u001b[39;49mon,\n\u001b[0;32m  11002\u001b[0m         level\u001b[39m=\u001b[39;49mlevel,\n\u001b[0;32m  11003\u001b[0m         origin\u001b[39m=\u001b[39;49morigin,\n\u001b[0;32m  11004\u001b[0m         offset\u001b[39m=\u001b[39;49moffset,\n\u001b[0;32m  11005\u001b[0m         group_keys\u001b[39m=\u001b[39;49mgroup_keys,\n\u001b[0;32m  11006\u001b[0m     )\n",
      "File \u001b[1;32mc:\\Users\\paolo\\PycharmProjects\\AOR2022\\.venv\\lib\\site-packages\\pandas\\core\\generic.py:8888\u001b[0m, in \u001b[0;36mNDFrame.resample\u001b[1;34m(self, rule, axis, closed, label, convention, kind, on, level, origin, offset, group_keys)\u001b[0m\n\u001b[0;32m   8885\u001b[0m \u001b[39mfrom\u001b[39;00m \u001b[39mpandas\u001b[39;00m\u001b[39m.\u001b[39;00m\u001b[39mcore\u001b[39;00m\u001b[39m.\u001b[39;00m\u001b[39mresample\u001b[39;00m \u001b[39mimport\u001b[39;00m get_resampler\n\u001b[0;32m   8887\u001b[0m axis \u001b[39m=\u001b[39m \u001b[39mself\u001b[39m\u001b[39m.\u001b[39m_get_axis_number(axis)\n\u001b[1;32m-> 8888\u001b[0m \u001b[39mreturn\u001b[39;00m get_resampler(\n\u001b[0;32m   8889\u001b[0m     cast(\u001b[39m\"\u001b[39;49m\u001b[39mSeries | DataFrame\u001b[39;49m\u001b[39m\"\u001b[39;49m, \u001b[39mself\u001b[39;49m),\n\u001b[0;32m   8890\u001b[0m     freq\u001b[39m=\u001b[39;49mrule,\n\u001b[0;32m   8891\u001b[0m     label\u001b[39m=\u001b[39;49mlabel,\n\u001b[0;32m   8892\u001b[0m     closed\u001b[39m=\u001b[39;49mclosed,\n\u001b[0;32m   8893\u001b[0m     axis\u001b[39m=\u001b[39;49maxis,\n\u001b[0;32m   8894\u001b[0m     kind\u001b[39m=\u001b[39;49mkind,\n\u001b[0;32m   8895\u001b[0m     convention\u001b[39m=\u001b[39;49mconvention,\n\u001b[0;32m   8896\u001b[0m     key\u001b[39m=\u001b[39;49mon,\n\u001b[0;32m   8897\u001b[0m     level\u001b[39m=\u001b[39;49mlevel,\n\u001b[0;32m   8898\u001b[0m     origin\u001b[39m=\u001b[39;49morigin,\n\u001b[0;32m   8899\u001b[0m     offset\u001b[39m=\u001b[39;49moffset,\n\u001b[0;32m   8900\u001b[0m     group_keys\u001b[39m=\u001b[39;49mgroup_keys,\n\u001b[0;32m   8901\u001b[0m )\n",
      "File \u001b[1;32mc:\\Users\\paolo\\PycharmProjects\\AOR2022\\.venv\\lib\\site-packages\\pandas\\core\\resample.py:1523\u001b[0m, in \u001b[0;36mget_resampler\u001b[1;34m(obj, kind, **kwds)\u001b[0m\n\u001b[0;32m   1519\u001b[0m \u001b[39m\u001b[39m\u001b[39m\"\"\"\u001b[39;00m\n\u001b[0;32m   1520\u001b[0m \u001b[39mCreate a TimeGrouper and return our resampler.\u001b[39;00m\n\u001b[0;32m   1521\u001b[0m \u001b[39m\"\"\"\u001b[39;00m\n\u001b[0;32m   1522\u001b[0m tg \u001b[39m=\u001b[39m TimeGrouper(\u001b[39m*\u001b[39m\u001b[39m*\u001b[39mkwds)\n\u001b[1;32m-> 1523\u001b[0m \u001b[39mreturn\u001b[39;00m tg\u001b[39m.\u001b[39;49m_get_resampler(obj, kind\u001b[39m=\u001b[39;49mkind)\n",
      "File \u001b[1;32mc:\\Users\\paolo\\PycharmProjects\\AOR2022\\.venv\\lib\\site-packages\\pandas\\core\\resample.py:1713\u001b[0m, in \u001b[0;36mTimeGrouper._get_resampler\u001b[1;34m(self, obj, kind)\u001b[0m\n\u001b[0;32m   1704\u001b[0m \u001b[39melif\u001b[39;00m \u001b[39misinstance\u001b[39m(ax, TimedeltaIndex):\n\u001b[0;32m   1705\u001b[0m     \u001b[39mreturn\u001b[39;00m TimedeltaIndexResampler(\n\u001b[0;32m   1706\u001b[0m         obj,\n\u001b[0;32m   1707\u001b[0m         timegrouper\u001b[39m=\u001b[39m\u001b[39mself\u001b[39m,\n\u001b[1;32m   (...)\u001b[0m\n\u001b[0;32m   1710\u001b[0m         gpr_index\u001b[39m=\u001b[39max,\n\u001b[0;32m   1711\u001b[0m     )\n\u001b[1;32m-> 1713\u001b[0m \u001b[39mraise\u001b[39;00m \u001b[39mTypeError\u001b[39;00m(\n\u001b[0;32m   1714\u001b[0m     \u001b[39m\"\u001b[39m\u001b[39mOnly valid with DatetimeIndex, \u001b[39m\u001b[39m\"\u001b[39m\n\u001b[0;32m   1715\u001b[0m     \u001b[39m\"\u001b[39m\u001b[39mTimedeltaIndex or PeriodIndex, \u001b[39m\u001b[39m\"\u001b[39m\n\u001b[0;32m   1716\u001b[0m     \u001b[39mf\u001b[39m\u001b[39m\"\u001b[39m\u001b[39mbut got an instance of \u001b[39m\u001b[39m'\u001b[39m\u001b[39m{\u001b[39;00m\u001b[39mtype\u001b[39m(ax)\u001b[39m.\u001b[39m\u001b[39m__name__\u001b[39m\u001b[39m}\u001b[39;00m\u001b[39m'\u001b[39m\u001b[39m\"\u001b[39m\n\u001b[0;32m   1717\u001b[0m )\n",
      "\u001b[1;31mTypeError\u001b[0m: Only valid with DatetimeIndex, TimedeltaIndex or PeriodIndex, but got an instance of 'Index'"
     ]
    }
   ],
   "source": [
    "danish_stocks_df[0].loc[start_date:, :].resample('D').mean()"
   ]
  },
  {
   "attachments": {},
   "cell_type": "markdown",
   "metadata": {},
   "source": [
    "- [ ] interpolate the arrays (min common data, max common date)"
   ]
  },
  {
   "attachments": {},
   "cell_type": "markdown",
   "metadata": {},
   "source": [
    "## EDA"
   ]
  },
  {
   "cell_type": "code",
   "execution_count": 23,
   "metadata": {},
   "outputs": [],
   "source": [
    "returns = [df['close'].pct_change().dropna() for df in danish_stocks_df]"
   ]
  },
  {
   "cell_type": "code",
   "execution_count": 34,
   "metadata": {},
   "outputs": [],
   "source": [
    "returns_dict = {stock: ret.values for stock, ret in zip(stocks_names, returns)}"
   ]
  },
  {
   "cell_type": "code",
   "execution_count": 41,
   "metadata": {},
   "outputs": [
    {
     "data": {
      "text/plain": [
       "array([ 0.01190476,  0.03294118, -0.00911162, ..., -0.00522195,\n",
       "       -0.01049862,  0.00530505])"
      ]
     },
     "execution_count": 41,
     "metadata": {},
     "output_type": "execute_result"
    }
   ],
   "source": [
    "returns_dict['AOJ']"
   ]
  },
  {
   "cell_type": "code",
   "execution_count": 45,
   "metadata": {},
   "outputs": [],
   "source": [
    "mean_returns_dict = {stock: values.mean() for stock, values in returns_dict.items()}"
   ]
  },
  {
   "cell_type": "code",
   "execution_count": 44,
   "metadata": {},
   "outputs": [
    {
     "data": {
      "image/png": "[encoded data removed]",
      "text/plain": [
       "<Figure size 1000x500 with 1 Axes>"
      ]
     },
     "metadata": {},
     "output_type": "display_data"
    }
   ],
   "source": [
    "# Visuallize the returns distrubution of AOJ\n",
    "fig = plt.figure(figsize=(10, 5))\n",
    "plt.hist(returns_dict['AOJ'], bins=100)\n",
    "plt.show()"
   ]
  },
  {
   "cell_type": "code",
   "execution_count": 53,
   "metadata": {},
   "outputs": [
    {
     "name": "stdout",
     "output_type": "stream",
     "text": [
      "Mean return of AOJ:  0.0009282415464997915\n",
      "Standard deviation of the AOJ's returns is:  0.02727309487604144\n",
      "The skewness of the AOJ's returns is:  3.4488053505615333\n",
      "The kurtosis of the AOJ's returns is:  103.41202873904344\n"
     ]
    }
   ],
   "source": [
    "print('Mean return of AOJ: ', mean_returns_dict['AOJ'])\n",
    "print('Standard deviation of the AOJ\\'s returns is: ', returns_dict['AOJ'].std())\n",
    "print('The skewness of the AOJ\\'s returns is: ', skew(returns_dict['AOJ']))\n",
    "print('The kurtosis of the AOJ\\'s returns is: ', kurtosis(returns_dict['AOJ']))"
   ]
  },
  {
   "attachments": {},
   "cell_type": "markdown",
   "metadata": {},
   "source": [
    "### Correlation of the returns"
   ]
  },
  {
   "cell_type": "code",
   "execution_count": null,
   "metadata": {},
   "outputs": [],
   "source": [
    "returns"
   ]
  },
  {
   "cell_type": "code",
   "execution_count": 54,
   "metadata": {},
   "outputs": [
    {
     "ename": "ValueError",
     "evalue": "setting an array element with a sequence. The requested array has an inhomogeneous shape after 1 dimensions. The detected shape was (13,) + inhomogeneous part.",
     "output_type": "error",
     "traceback": [
      "\u001b[1;31m---------------------------------------------------------------------------\u001b[0m",
      "\u001b[1;31mValueError\u001b[0m                                Traceback (most recent call last)",
      "Cell \u001b[1;32mIn[54], line 2\u001b[0m\n\u001b[0;32m      1\u001b[0m \u001b[39m# Correlations of the returns\u001b[39;00m\n\u001b[1;32m----> 2\u001b[0m corr_matrix \u001b[39m=\u001b[39m np\u001b[39m.\u001b[39;49mcorrcoef(returns, rowvar\u001b[39m=\u001b[39;49m\u001b[39mFalse\u001b[39;49;00m)\n",
      "File \u001b[1;32m<__array_function__ internals>:200\u001b[0m, in \u001b[0;36mcorrcoef\u001b[1;34m(*args, **kwargs)\u001b[0m\n",
      "File \u001b[1;32mc:\\Users\\paolo\\PycharmProjects\\AOR2022\\.venv\\lib\\site-packages\\numpy\\lib\\function_base.py:2846\u001b[0m, in \u001b[0;36mcorrcoef\u001b[1;34m(x, y, rowvar, bias, ddof, dtype)\u001b[0m\n\u001b[0;32m   2842\u001b[0m \u001b[39mif\u001b[39;00m bias \u001b[39mis\u001b[39;00m \u001b[39mnot\u001b[39;00m np\u001b[39m.\u001b[39m_NoValue \u001b[39mor\u001b[39;00m ddof \u001b[39mis\u001b[39;00m \u001b[39mnot\u001b[39;00m np\u001b[39m.\u001b[39m_NoValue:\n\u001b[0;32m   2843\u001b[0m     \u001b[39m# 2015-03-15, 1.10\u001b[39;00m\n\u001b[0;32m   2844\u001b[0m     warnings\u001b[39m.\u001b[39mwarn(\u001b[39m'\u001b[39m\u001b[39mbias and ddof have no effect and are deprecated\u001b[39m\u001b[39m'\u001b[39m,\n\u001b[0;32m   2845\u001b[0m                   \u001b[39mDeprecationWarning\u001b[39;00m, stacklevel\u001b[39m=\u001b[39m\u001b[39m3\u001b[39m)\n\u001b[1;32m-> 2846\u001b[0m c \u001b[39m=\u001b[39m cov(x, y, rowvar, dtype\u001b[39m=\u001b[39;49mdtype)\n\u001b[0;32m   2847\u001b[0m \u001b[39mtry\u001b[39;00m:\n\u001b[0;32m   2848\u001b[0m     d \u001b[39m=\u001b[39m diag(c)\n",
      "File \u001b[1;32m<__array_function__ internals>:200\u001b[0m, in \u001b[0;36mcov\u001b[1;34m(*args, **kwargs)\u001b[0m\n",
      "File \u001b[1;32mc:\\Users\\paolo\\PycharmProjects\\AOR2022\\.venv\\lib\\site-packages\\numpy\\lib\\function_base.py:2616\u001b[0m, in \u001b[0;36mcov\u001b[1;34m(m, y, rowvar, bias, ddof, fweights, aweights, dtype)\u001b[0m\n\u001b[0;32m   2612\u001b[0m     \u001b[39mraise\u001b[39;00m \u001b[39mValueError\u001b[39;00m(\n\u001b[0;32m   2613\u001b[0m         \u001b[39m\"\u001b[39m\u001b[39mddof must be integer\u001b[39m\u001b[39m\"\u001b[39m)\n\u001b[0;32m   2615\u001b[0m \u001b[39m# Handles complex arrays too\u001b[39;00m\n\u001b[1;32m-> 2616\u001b[0m m \u001b[39m=\u001b[39m np\u001b[39m.\u001b[39;49masarray(m)\n\u001b[0;32m   2617\u001b[0m \u001b[39mif\u001b[39;00m m\u001b[39m.\u001b[39mndim \u001b[39m>\u001b[39m \u001b[39m2\u001b[39m:\n\u001b[0;32m   2618\u001b[0m     \u001b[39mraise\u001b[39;00m \u001b[39mValueError\u001b[39;00m(\u001b[39m\"\u001b[39m\u001b[39mm has more than 2 dimensions\u001b[39m\u001b[39m\"\u001b[39m)\n",
      "\u001b[1;31mValueError\u001b[0m: setting an array element with a sequence. The requested array has an inhomogeneous shape after 1 dimensions. The detected shape was (13,) + inhomogeneous part."
     ]
    }
   ],
   "source": [
    "# Correlations of the returns\n",
    "corr_matrix = np.corrcoef(, rowvar=False)"
   ]
  }
 ],
 "metadata": {
  "kernelspec": {
   "display_name": ".venv",
   "language": "python",
   "name": "python3"
  },
  "language_info": {
   "codemirror_mode": {
    "name": "ipython",
    "version": 3
   },
   "file_extension": ".py",
   "mimetype": "text/x-python",
   "name": "python",
   "nbconvert_exporter": "python",
   "pygments_lexer": "ipython3",
   "version": "3.10.6"
  },
  "orig_nbformat": 4
 },
 "nbformat": 4,
 "nbformat_minor": 2
}
