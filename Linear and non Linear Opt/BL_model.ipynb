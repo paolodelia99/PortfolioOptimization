{
 "cells": [
  {
   "cell_type": "markdown",
   "metadata": {},
   "source": [
    "# Black-Litterman Model\n",
    "\n",
    "$$\n",
    "\\begin{align}\n",
    "\\max_{\\mathbf{w}} \\quad & \\mathbf{w}^T \\bar{\\mu} - \\frac{\\delta}{2} \\mathbf{w}^T \\hat{\\Sigma} \\mathbf{w}  &\\\\\n",
    "\\text{s.t.: } \\quad & \\boldsymbol 1^T \\mathbf{w}^T = 1 \\\\\n",
    "\\quad & \\mathbf{w} \\ge 0\n",
    "\n",
    "\\end{align}\n",
    "$$\n",
    "\n",
    "where $\\bar{\\mu}$ is defined as \n",
    "\n",
    "$$\n",
    "\\bar{\\mu} = [ (\\tau \\Sigma)^{-1} + P \\Omega^{-1} P]^{-1} [(\\tau \\Sigma)^{-1} \\Pi + P \\Omega^{-1} Q]\n",
    "$$\n",
    "\n",
    "and\n",
    "\n",
    "$$\n",
    "\\bar{M}^{-1} = [(\\tau \\Sigma)^{-1} + P \\Omega^{-1} P]^{-1}\n",
    "$$\n",
    "\n",
    "and $\\hat{\\Sigma} = \\Sigma + \\bar{M}^{-1}$\n",
    "\n",
    "where:\n",
    "- $\\Pi$ is the market equilibrium expected return vector, defined as follows: $\\Pi = \\delta \\Sigma \\mathbf{w}_{\\textit{mkt}}$.\n",
    "- $\\mathbf{P}$ is the $K \\times N$ matrix that maps the investor's views to the asset returns. Each row corresponds to a view, and the columns indicate the assets.\n",
    "- $\\mathbf{Q}$ is a $K$-vector of the expected return on the portfolios defined by $\\mathbf{P}$.\n",
    "- $\\Omega$ is a $K \\times K$ the diagonal matrix representing the uncertainty (variances) associated with the views.\n",
    "- $\\tau$ is the scaling factor that determines the strength of the views."
   ]
  },
  {
   "cell_type": "code",
   "execution_count": 34,
   "metadata": {},
   "outputs": [],
   "source": [
    "import numpy as np\n",
    "import pandas as pd\n",
    "import matplotlib.pyplot as plt\n",
    "\n",
    "from port_opt import get_optimal_portfolio, neg_utility_value"
   ]
  },
  {
   "cell_type": "code",
   "execution_count": 12,
   "metadata": {},
   "outputs": [],
   "source": [
    "close_df = pd.read_csv('..\\data\\DK\\preprocessed_data\\danish_closed_stocks.csv', index_col=0)\n",
    "mu = np.load('..\\data\\DK\\preprocessed_data\\stocks\\m.npy')\n",
    "cov = np.load('..\\data\\DK\\preprocessed_data\\stocks\\S.npy')\n",
    "\n",
    "stocks_names = close_df.columns.tolist()"
   ]
  },
  {
   "cell_type": "code",
   "execution_count": 4,
   "metadata": {},
   "outputs": [],
   "source": [
    "mkt_caps = {stock: 0 for stock in stocks_names}\n",
    "\n",
    "mkt_caps['MAERSK'] = 216.976 # biliion DKK\n",
    "mkt_caps['ORSTED'] = 222.972 # biliion DKK\n",
    "mkt_caps['VWS'] =  157.775 # biliion DKK\n",
    "mkt_caps['CHR'] =  59.581 # biliion DKK\n",
    "mkt_caps['NOVO'] =  2.783e3 # trilion DKK\n",
    "mkt_caps['NZYM'] =  82.782 # bilion DKK\n",
    "mkt_caps['ZEAL'] =  15.196 # bilion DKK\n",
    "mkt_caps['DNORD'] =  10.964 # bilion DKK\n",
    "mkt_caps['TRMD'] = 15.225 # bilion DKK\n",
    "mkt_caps['STG'] = 9.521 # bilion DKK\n",
    "mkt_caps['SOLAR'] =  3.432 # bilion DKK\n",
    "mkt_caps['AOJ'] =  2.074 # bilion DKK\n",
    "mkt_caps['SKAKO'] =  236.088e-3 # milion DKK\n",
    "mkt_caps['NDA'] = 256.213 # bilion DKK\n",
    "mkt_caps['LUXOR'] =  540.375e-3 # milion DKK\n",
    "mkt_caps['PNDORA'] =  58.699 # bilion DKK"
   ]
  },
  {
   "cell_type": "code",
   "execution_count": 6,
   "metadata": {},
   "outputs": [],
   "source": [
    "cap_sum = sum(list(mkt_caps.values()))\n",
    "cap_weights = {k: v / cap_sum for k, v in mkt_caps.items()}"
   ]
  },
  {
   "cell_type": "code",
   "execution_count": 14,
   "metadata": {},
   "outputs": [],
   "source": [
    "w_mkt = np.array(list(cap_weights.values()))"
   ]
  },
  {
   "cell_type": "markdown",
   "metadata": {},
   "source": [
    "The process that I've undertaken for constructing the matrices $\\mathbf{P}$, $\\mathbf{Q}$, and $\\mathbf{\\Omega}$ for the Black-Litterman model was the following:\n",
    "\n",
    "1. $\\mathbf{P}$: To construct $\\mathbf{P}$, I analyzed historical data to identify how different sectors perform in various economic cycles. I created four scenarios to represent each part of the economic cycle: Early, Mid, Late, and Recession. Each scenario corresponds to a row in $\\mathbf{P}$, and the stocks' expected returns for each scenario are based on the historical performance of their respective sectors during similar economic cycles. So, each row in $\\mathbf{P}$ captures the expected returns of stocks aligned with their sector's performance in a specific economic scenario.\n",
    "\n",
    "2. $\\mathbf{Q}$: My vector $\\mathbf{Q}$ contains probabilities that represent the likelihood of each economic scenario occurring in the upcoming quarters. I assign higher probabilities to scenarios that I believe are more likely to happen based on my analysis. This helps me express my expectations about the potential economic conditions.\n",
    "\n",
    "3. $\\mathbf{\\Omega}$: For the matrix $\\mathbf{\\Omega}$, I account for the uncertainty associated with each view. I've considered that views with a lower likelihood of occurring in the near future are less certain, so I assign higher values to those. Conversely, for scenarios that I believe are more likely, I assign lower values to indicate higher confidence in those views.\n",
    "\n",
    "The shortcoming of this approach is that the sector returns that I've used are not even close to be realistic, and they are the same for each stock beloning to the same sector. The ideal approach would be to sample from a mutlinormal distribution with the expected returns for each sector and for each part of the economic cycle, with an appropriate covariance matrix."
   ]
  },
  {
   "cell_type": "code",
   "execution_count": 29,
   "metadata": {},
   "outputs": [],
   "source": [
    "tau = 0.1\n",
    "delta = 0.2\n",
    "P = np.array([\n",
    "    [0., 0., 0.2, 0.1, 0.2, 0.1, -0.2, -0.2, -0.2, 0.2, 0.2, 0.2, 0., 0.1, 0.2, -0.2, -0.2],\n",
    "    [-0.10, -0.10, 0., 0., 0., 0., 0., -0.1, 0., 0., 0., 0., 0., 0., 0., 0., 0.],\n",
    "    [0.10, 0.10, 0., 0., 0., 0., 0., 0., 0.1, -0.2, 0., 0., 0.1, 0., 0., 0.2, 0.],\n",
    "    [0.20, 0.20, -0.2, -0.2, -0.2, -0.2, 0.2, 0.2, 0.2, 0.1, -0.2, -0.2, 0.2, -0.2, -0.2, 0., 0.2]\n",
    "])\n",
    "Q = np.array([0.1, 0.15, 0.3, 0.45])\n",
    "Omg = np.diag([0.25, 0.2, 0.15, 0.1])\n",
    "Pi = delta * (cov @ w_mkt)"
   ]
  },
  {
   "cell_type": "code",
   "execution_count": 18,
   "metadata": {},
   "outputs": [
    {
     "name": "stdout",
     "output_type": "stream",
     "text": [
      "AOJ CHR DNORD LUXOR MAERSK NDA NOVO NZYM ORSTED PNDORA SKAKO SOLAR STG TOP TRMD VWS ZEAL "
     ]
    }
   ],
   "source": [
    "for stock in stocks_names:\n",
    "    print(stock, end=' ')"
   ]
  },
  {
   "cell_type": "markdown",
   "metadata": {},
   "source": [
    "```python\n",
    "sector_dict = {\n",
    "    'Consumer Discretionary': ['PNDORA'],\n",
    "    'Consumer Staples': ['CHR', 'STG', 'AOJ'],\n",
    "    'Finance': ['NDA', 'LUXOR'],\n",
    "    'Energy': ['ORSTED'],\n",
    "    'Industrial': ['SOLAR', 'MAERKS', 'DNORD', 'TRMD', 'SKAKO'],\n",
    "    'Health Care': ['NOVO', 'NZYM', 'ZEAL'],\n",
    "    'Energy': ['VWS'],\n",
    "    'Utilities': ['ORSTED']\n",
    "}\n",
    "\n",
    "```"
   ]
  },
  {
   "cell_type": "code",
   "execution_count": 30,
   "metadata": {},
   "outputs": [],
   "source": [
    "M_1 = np.linalg.inv(np.linalg.inv(tau * cov) + P.T @ np.linalg.inv(Omg) @ P)"
   ]
  },
  {
   "cell_type": "code",
   "execution_count": 31,
   "metadata": {},
   "outputs": [],
   "source": [
    "mu_bar = M_1 @ (np.linalg.inv(tau * cov) @ Pi + P.T @ np.linalg.inv(Omg) @ Q)\n",
    "Sigma_bar = cov + M_1"
   ]
  },
  {
   "cell_type": "code",
   "execution_count": 32,
   "metadata": {},
   "outputs": [],
   "source": [
    "# w_star = 1 / delta * np.linalg.inv(Sigma_bar) @ M_1 @ (np.linalg.inv(tau * cov) @ Pi + P.T @ np.linalg.inv(Omg) @ Q)"
   ]
  },
  {
   "cell_type": "code",
   "execution_count": 35,
   "metadata": {},
   "outputs": [],
   "source": [
    "constraints = ({'type': 'eq', 'fun': lambda x: np.sum(x) - 1})\n",
    "res = get_optimal_portfolio(\n",
    "    f_obj=neg_utility_value,\n",
    "    args=(mu_bar, Sigma_bar, delta),\n",
    "    constraints=constraints,\n",
    "    bounds=tuple((0,1) for _ in range(len(stocks_names))))"
   ]
  },
  {
   "cell_type": "code",
   "execution_count": 42,
   "metadata": {},
   "outputs": [
    {
     "data": {
      "text/plain": [
       " message: Optimization terminated successfully\n",
       " success: True\n",
       "  status: 0\n",
       "     fun: -0.0032370310425407743\n",
       "       x: [ 2.104e-19  1.737e-01 ...  6.389e-18  2.452e-01]\n",
       "     nit: 15\n",
       "     jac: [ 3.710e-03 -2.832e-03 ...  2.766e-03 -3.230e-03]\n",
       "    nfev: 270\n",
       "    njev: 15"
      ]
     },
     "execution_count": 42,
     "metadata": {},
     "output_type": "execute_result"
    }
   ],
   "source": [
    "res"
   ]
  },
  {
   "cell_type": "code",
   "execution_count": 44,
   "metadata": {},
   "outputs": [
    {
     "name": "stdout",
     "output_type": "stream",
     "text": [
      "Return: -0.32%\n",
      "\n",
      "AOJ: 0.00% CHR: 17.37% DNORD: 0.00% LUXOR: 0.00% MAERSK: 0.00% NDA: 0.00% NOVO: 37.13% NZYM: 0.00% ORSTED: 20.98% PNDORA: 0.00% SKAKO: 0.00% SOLAR: 0.00% STG: 0.00% TOP: 0.00% TRMD: 0.00% VWS: 0.00% ZEAL: 24.52% "
     ]
    }
   ],
   "source": [
    "print(f'Return: {100*res.fun:.2f}%\\n')\n",
    "\n",
    "for stock, weight in zip(stocks_names, res.x):\n",
    "     print(f'{stock}: {100*weight:.2f}% ', end=\"\", flush=True)"
   ]
  },
  {
   "cell_type": "markdown",
   "metadata": {},
   "source": [
    "# Todos\n",
    "- [x] Market cap of the Danish stocks"
   ]
  }
 ],
 "metadata": {
  "kernelspec": {
   "display_name": ".venv",
   "language": "python",
   "name": "python3"
  },
  "language_info": {
   "codemirror_mode": {
    "name": "ipython",
    "version": 3
   },
   "file_extension": ".py",
   "mimetype": "text/x-python",
   "name": "python",
   "nbconvert_exporter": "python",
   "pygments_lexer": "ipython3",
   "version": "3.10.6"
  },
  "orig_nbformat": 4
 },
 "nbformat": 4,
 "nbformat_minor": 2
}
